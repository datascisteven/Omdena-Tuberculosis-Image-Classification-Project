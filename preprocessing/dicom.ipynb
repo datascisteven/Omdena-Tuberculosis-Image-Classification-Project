{
 "cells": [
  {
   "cell_type": "code",
   "execution_count": 3,
   "metadata": {},
   "outputs": [
    {
     "name": "stdout",
     "output_type": "stream",
     "text": [
      "Requirement already satisfied: pydicom in /Users/datascisteven/anaconda3/lib/python3.11/site-packages (2.4.2)\n"
     ]
    }
   ],
   "source": [
    "\n",
    "!pip install pydicom"
   ]
  },
  {
   "cell_type": "code",
   "execution_count": 2,
   "metadata": {},
   "outputs": [],
   "source": [
    "\n",
    "import os \n",
    "import matplotlib.pyplot as plt\n",
    "import pydicom\n",
    "from pydicom.data import get_testdata_files\n",
    "# filename = os.path.abspath('/Users/datascisteven/Downloads/images/1.2.840.114062.2.192.168.196.13.2013.9.27.9.58.39.4346781.dcm')\n",
    "# ds = pydicom.dcmread(filename)\n",
    "# plt.imshow(ds.pixel_array, cmap=plt.cm.bone)"
   ]
  },
  {
   "cell_type": "code",
   "execution_count": 5,
   "metadata": {},
   "outputs": [],
   "source": [
    "import pydicom\n",
    "from PIL import Image\n",
    "import numpy as np\n",
    "\n",
    "\n",
    "source_path = '/Users/datascisteven/Downloads/DB Dataset'\n",
    "filename_list = os.listdir(source_path)\n",
    "\n",
    "for filename in filename_list:\n",
    "\n",
    "    # Load the DCM file\n",
    "    dcm = pydicom.dcmread(os.path.join(source_path, filename))\n",
    "\n",
    "    # Convert the pixel array to a numpy array and scale the values\n",
    "    array = dcm.pixel_array\n",
    "    array = (array / np.max(array)) * 255\n",
    "    array = array.astype(np.uint8)\n",
    "\n",
    "    # Create a PIL image from the numpy array\n",
    "    image = Image.fromarray(array)\n",
    "\n",
    "    # Save the image as a PNG file\n",
    "    path = '/Users/datascisteven/Downloads/DB_dataset_png'\n",
    "    image.save(os.path.join(path, filename[:-4] + '.png'))"
   ]
  }
 ],
 "metadata": {
  "kernelspec": {
   "display_name": "base",
   "language": "python",
   "name": "python3"
  },
  "language_info": {
   "codemirror_mode": {
    "name": "ipython",
    "version": 3
   },
   "file_extension": ".py",
   "mimetype": "text/x-python",
   "name": "python",
   "nbconvert_exporter": "python",
   "pygments_lexer": "ipython3",
   "version": "3.11.3"
  },
  "orig_nbformat": 4
 },
 "nbformat": 4,
 "nbformat_minor": 2
}
