{
 "cells": [
  {
   "cell_type": "code",
   "execution_count": 1,
   "metadata": {},
   "outputs": [],
   "source": [
    "import numpy as np"
   ]
  },
  {
   "cell_type": "code",
   "execution_count": 10,
   "metadata": {},
   "outputs": [
    {
     "data": {
      "text/plain": [
       "[1.1451223502094429e-05,\n",
       " 0.00041638872853659223,\n",
       " 0.0070615385296602514,\n",
       " 0.006548386423307038,\n",
       " 0.0015533609773334845]"
      ]
     },
     "execution_count": 10,
     "metadata": {},
     "output_type": "execute_result"
    }
   ],
   "source": [
    "alphas = []\n",
    "for i in range(5):\n",
    "    r = -5 * np.random.rand()\n",
    "    alpha = 10**r\n",
    "    alphas.append(alpha)\n",
    "\n",
    "alphas"
   ]
  },
  {
   "cell_type": "code",
   "execution_count": 11,
   "metadata": {},
   "outputs": [
    {
     "data": {
      "text/plain": [
       "[0.2715432782480284,\n",
       " 0.0035471500436634316,\n",
       " 0.3689134494302623,\n",
       " 0.001166413136730308,\n",
       " 0.1609838418660408]"
      ]
     },
     "execution_count": 11,
     "metadata": {},
     "output_type": "execute_result"
    }
   ],
   "source": [
    "alphas = []\n",
    "for i in range(5):\n",
    "    r = -4 * np.random.rand()\n",
    "    alpha = 10**r\n",
    "    alphas.append(alpha)\n",
    "\n",
    "alphas"
   ]
  },
  {
   "cell_type": "code",
   "execution_count": 12,
   "metadata": {},
   "outputs": [
    {
     "data": {
      "text/plain": [
       "[1.6139068631890197,\n",
       " 9.20946911964759,\n",
       " 3.5605245415747797,\n",
       " 2.969414462573766,\n",
       " 6.8936453779212234]"
      ]
     },
     "execution_count": 12,
     "metadata": {},
     "output_type": "execute_result"
    }
   ],
   "source": [
    "alphas = []\n",
    "for i in range(5):\n",
    "    r = np.random.rand()\n",
    "    alpha = 10**r\n",
    "    alphas.append(alpha)\n",
    "\n",
    "alphas"
   ]
  },
  {
   "cell_type": "code",
   "execution_count": 13,
   "metadata": {},
   "outputs": [
    {
     "data": {
      "text/plain": [
       "[0.7104981236497117,\n",
       " 0.2676316408616951,\n",
       " 0.8088965698374426,\n",
       " 0.05737844840149999,\n",
       " 0.5462619297184933]"
      ]
     },
     "execution_count": 13,
     "metadata": {},
     "output_type": "execute_result"
    }
   ],
   "source": [
    "alphas = []\n",
    "for i in range(5):\n",
    "    r = np.random.rand()\n",
    "    alpha = 0.00001 + (r*0.99999)\n",
    "    alphas.append(alpha)\n",
    "\n",
    "alphas"
   ]
  },
  {
   "cell_type": "code",
   "execution_count": null,
   "metadata": {},
   "outputs": [],
   "source": []
  }
 ],
 "metadata": {
  "kernelspec": {
   "display_name": "tf-env",
   "language": "python",
   "name": "python3"
  },
  "language_info": {
   "codemirror_mode": {
    "name": "ipython",
    "version": 3
   },
   "file_extension": ".py",
   "mimetype": "text/x-python",
   "name": "python",
   "nbconvert_exporter": "python",
   "pygments_lexer": "ipython3",
   "version": "3.8.17"
  }
 },
 "nbformat": 4,
 "nbformat_minor": 2
}
